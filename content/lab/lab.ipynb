{
  "cells": [
    {
      "cell_type": "markdown",
      "metadata": {},
      "source": [
        "# \n",
        "\n",
        "# 1. Lab Assignments - White Paper Implementations\n",
        "\n",
        "RLZero grew out of the lab-component for an imaginary graduate-level course *7.824 Deep Reinforcement Learning Systems*.\n",
        "The purpose of this course is to help graduate students acquire a fundamental understanding of the theoretical foundations of Reinforcement Learning,\n",
        "and to help them get up to speed with the state-of-the-art in RL research.\n",
        "7.824 provides the student with a strong foundation for both applying Reinforcement Learning to complex problems,\n",
        "and for addressing core research topics in Reinforcement Learning.\n",
        "After creating this content, it became obvious that RLZero and the 7.824 labs could be very useful resource for the community.\n",
        "Therefore we have made this library and the 7.824 labs public, in the hope that other researchers can benefit from our efforts.\n",
        "\n",
        "Much of the class consists of studying and discussing case studies of RL systems.\n",
        "The labs for 7.824 are a fundamental part of the curriculum,\n",
        "where students implement prototypes of state-of-the-art RL systems, as described in research publications.\n",
        "To this end, we present abstractions and implementation techniques for engineering distributed RL systems,\n",
        "using the RLZero framework to illustrate these principles.\n",
        "\n",
        "RLZero is a library of building blocks for Reinforcement Learning, which enables prototyping RL research papers quickly and effectively.\n",
        "It is mostly based on the [Acme framework of DeepMind](https://github.com/google-deepmind/acme), however it is not a library of RL algorithms.\n",
        "Similar to the [Spinning Up](https://spinningup.openai.com/) library by Josh Achiam at OpenAI, RLZero is foremost an educational resource.\n",
        "RLZero offers a small and lightweight set of thoughtfully chosen abstractions that makes it simple and intuitive for engineers\n",
        "to create *modular* distributed RL systems consisting of components that are *flexible*, *reusable* and *fault-tolerant*.\n",
        "Students use the RLZero framework to implement a series of RL systems of increasing complexity,\n",
        "starting from [QR-DQN](https://arxiv.org/abs/1710.10044) and [Distributed (Gorila) DQN](https://arxiv.org/abs/1507.04296),\n",
        "moving up to more recent distributed systems such as [D4PG](https://arxiv.org/abs/1804.08617), [R2D2](https://openreview.net/forum?id=r1lyTjAqYX), [Impala](https://arxiv.org/abs/1802.01561), and finally [MuZero](https://arxiv.org/pdf/1911.08265).\n",
        "The course culminates in a research project, where students\n",
        "\n",
        "-   create a novel distributed RL algorithm\n",
        "-   implement their system in RLZero\n",
        "-   compare their algorithm’s performance against suitable baselines\n",
        "-   produce an 8-page report describing their work\n",
        "\n",
        "The project is an integral part of this class, and is designed to be similar to researching and writing a conference-style paper.\n",
        "\n",
        "|           |\n",
        "|:----------|\n",
        "| Structure |"
      ],
      "id": "051fe9e9-11ab-4e3d-8de2-b85d67e4d9c1"
    },
    {
      "cell_type": "raw",
      "metadata": {
        "raw_mimetype": "text/html"
      },
      "source": [
        "<!--#TODO : describe the basic logistics of the lab assignments. -->"
      ],
      "id": "8f413e9c-576c-418b-a2b2-bd1d965ed601"
    },
    {
      "cell_type": "raw",
      "metadata": {
        "raw_mimetype": "text/html"
      },
      "source": [
        "<!--#TODO : describe the infrastructure for the lab assignments. -->"
      ],
      "id": "54520301-9ed2-4491-9dfe-e68fa93e47aa"
    },
    {
      "cell_type": "raw",
      "metadata": {
        "raw_mimetype": "text/html"
      },
      "source": [
        "<!--#TODO : describe the template for each of the lab assignments. -->"
      ],
      "id": "5628d0e3-08e1-4a9b-b36e-0c18539e4c83"
    },
    {
      "cell_type": "raw",
      "metadata": {
        "raw_mimetype": "text/html"
      },
      "source": [
        "<!--#TODO : describe the spec for each of the lab assignments. -->"
      ],
      "id": "9816a7f3-83ea-44b2-872e-3b1eaf94ea69"
    },
    {
      "cell_type": "markdown",
      "metadata": {},
      "source": [
        "| Labs/Papers |\n",
        "|:-----------------------------------------------------------------------|\n",
        "| <!--#TODO : provide links to the individual labs / paper implementations --> |\n",
        "\n",
        "## 1.1 Solutions (Reference Implementations)\n",
        "\n",
        "Besides providing students with a template and a detailed specification for each lab/paper,\n",
        "each paper is accompanied with all of the logging output of our reference solution,\n",
        "which is a useful baseline for students while they are debugging their own implementation.\n",
        "After the submission deadline, we provide students with our source code to enhance the learning process.\n",
        "Our implementations are reasonably good, although certainly not industrial grade.\n",
        "We strived to make them as simple as possible, and we tried to stay close to the pseudocode from the paper,\n",
        "all to make it simple for the student to study our implementation.\n",
        "All of these implementations are freely available in a private companion repository [RLZero-Solutions]().\n",
        "If you are an instructor, feel free to reach out to us, and we will gladly make our reference solutions available to you."
      ],
      "id": "5cfff122-320e-44a4-b17e-cda205da7233"
    }
  ],
  "nbformat": 4,
  "nbformat_minor": 5,
  "metadata": {
    "kernelspec": {
      "display_name": "Python 3",
      "language": "python",
      "name": "python3"
    }
  }
}