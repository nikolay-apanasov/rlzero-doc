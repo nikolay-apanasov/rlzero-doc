{
  "cells": [
    {
      "cell_type": "markdown",
      "metadata": {},
      "source": [
        "# \n",
        "\n",
        "# 1. External Resources"
      ],
      "id": "1d980f69-076b-4663-8236-2eb05e99e6db"
    },
    {
      "cell_type": "raw",
      "metadata": {
        "raw_mimetype": "text/html"
      },
      "source": [
        "<!--#TODO Links to relevant external resources -->"
      ],
      "id": "a6d004f3-1d93-4792-8923-d92559c97051"
    }
  ],
  "nbformat": 4,
  "nbformat_minor": 5,
  "metadata": {
    "kernelspec": {
      "display_name": "Python 3",
      "language": "python",
      "name": "python3"
    }
  }
}