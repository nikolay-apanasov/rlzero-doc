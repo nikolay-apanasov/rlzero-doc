{
  "cells": [
    {
      "cell_type": "markdown",
      "metadata": {},
      "source": [
        "# \n",
        "\n",
        "# 1. Introduction to RLZero"
      ],
      "id": "0886f982-223d-4322-b2a6-fe13ad0e349b"
    },
    {
      "cell_type": "raw",
      "metadata": {
        "raw_mimetype": "text/html"
      },
      "source": [
        "<!--# An introduction to RLZero, followed by a tutorial example (QR-DQN, distributed QR-DQN (~Gorila)). -->"
      ],
      "id": "0659dc4d-33d1-40c1-925a-2682f29cbafa"
    },
    {
      "cell_type": "markdown",
      "metadata": {},
      "source": [
        "## 1.1 System Design"
      ],
      "id": "c94a87fe-9c11-42d4-a7bf-355a33c95d83"
    },
    {
      "cell_type": "raw",
      "metadata": {
        "raw_mimetype": "text/html"
      },
      "source": [
        "<!--#TODO: Summary of [design.md]() -->"
      ],
      "id": "11200940-3a17-4221-8619-f48cfa6a7b7f"
    },
    {
      "cell_type": "markdown",
      "metadata": {},
      "source": [
        "## 1.2 Running Experiments\n",
        "\n",
        "## 1.3 Experiment Logging, MLOps\n",
        "\n",
        "## 1.4 QR-DQN\n",
        "\n",
        "## 1.5 Distributed QR-DQN (Gorila)"
      ],
      "id": "e4b914c0-f908-4352-9c53-2699d8fe9977"
    }
  ],
  "nbformat": 4,
  "nbformat_minor": 5,
  "metadata": {
    "kernelspec": {
      "display_name": "Python 3",
      "language": "python",
      "name": "python3"
    }
  }
}